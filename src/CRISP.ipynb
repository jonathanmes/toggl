{
 "cells": [
  {
   "cell_type": "markdown",
   "metadata": {},
   "source": [
    "# 1-Compreensão do Negócio"
   ]
  },
  {
   "cell_type": "markdown",
   "metadata": {},
   "source": [
    "## 1.2-\tDeterminação dos Objetivos"
   ]
  },
  {
   "cell_type": "markdown",
   "metadata": {},
   "source": [
    "### 1.2.1-Fundo\n",
    "Utilizo o [Toggl track](https://toggl.com/track/) para registrar o tempo em que trabalho em cada projeto, mais gostaria de aproveitar o tempo que possuo de forma mais organizada e produtiva.\n"
   ]
  },
  {
   "cell_type": "markdown",
   "metadata": {},
   "source": [
    "### 1.2.2-Objetivos de negócio\n",
    "Descobrir quanto tempo eu gasto em cada projeto para ter uma base para dimensionamento temporal dos projeto e descobrir quais os dias e horários que devo planejar para melhor aproveitamento do tempo disponivel.\n"
   ]
  },
  {
   "cell_type": "markdown",
   "metadata": {},
   "source": [
    "### 1.2.3-Critérios de sucesso do negócio\n",
    "- Descobrir quanto tempo utilizo para cada projeto/fase.\n",
    "- Quais dias/horários tenho melhor produtividade."
   ]
  },
  {
   "cell_type": "markdown",
   "metadata": {},
   "source": [
    "## 1.3-\tSituação a ser avaliada"
   ]
  },
  {
   "cell_type": "markdown",
   "metadata": {},
   "source": [
    "### 1.3.1-Inventário dos recursos\n",
    "#### Dados\n",
    "- Em desenvolvimento os dados serão retirados por meio da API do Toggl e modificados para manter a privacidade.\n",
    "- Em produção os dados serão retirados diretamentes da API do Toggl\n",
    "\n",
    "#### Hardware\n",
    "- Computador pessoal.\n",
    "- O projeto deve ser estruturado para a possibilidade de roda-lo em nuvem Azure.\n",
    "\n",
    "#### Software\n",
    "- Python\n",
    "- Postman\n",
    "- Mysql\n",
    "- Docker\n",
    "- Visual Studio\n",
    "- Git"
   ]
  },
  {
   "cell_type": "markdown",
   "metadata": {},
   "source": [
    "### 1.3.2-Requisitos, premissas e restrições\n",
    "- A data limite para um entregável funcional deste projeto é 12/08/2022.\n"
   ]
  },
  {
   "cell_type": "markdown",
   "metadata": {},
   "source": [
    "### 1.3.3-Riscos e contingências\n",
    "- Tempo insulficiente:\n",
    "    - Revisar objetivos\n",
    "    - Aumentar o prazo\n",
    "    - Analisar o motivo de não conseguir alcançar."
   ]
  },
  {
   "cell_type": "markdown",
   "metadata": {},
   "source": [
    "### 1.3.4-Terminologia\n",
    "A estrutura das informação extraidas são:\n",
    "\n",
    "__Toggl = Estrutura pessoal__\n",
    "- \"Project\" =  Estrutura de registro. EX: Projetos, Contexto, Organização, Exercícios\n",
    "- \"Description = Onde será registrado do que se trata a entrada de dados. EX: @Contexto,[Nome do Projeto]\n",
    "\n"
   ]
  },
  {
   "cell_type": "markdown",
   "metadata": {},
   "source": [
    "### 1.3.5-Custos e benefícios"
   ]
  },
  {
   "cell_type": "markdown",
   "metadata": {},
   "source": [
    "## 1.4-\tDeterminar metas da Mineração de Dados"
   ]
  },
  {
   "cell_type": "markdown",
   "metadata": {},
   "source": [
    "### 1.4.1-Metas de mineração de dados\n",
    "\n",
    "- Saídas de dados\n",
    "    - DW\n",
    "    - Relatório Semanais\n",
    "    - Paineis de BI\n"
   ]
  },
  {
   "cell_type": "markdown",
   "metadata": {},
   "source": [
    "### 1.4.2-Critérios de sucesso de mineração de dados\n",
    "\n",
    "- Procedimento Replicável\n",
    "- Documentação ideal\n"
   ]
  },
  {
   "cell_type": "markdown",
   "metadata": {},
   "source": [
    "## 1.5-\tProduzir o projeto\n"
   ]
  },
  {
   "cell_type": "markdown",
   "metadata": {},
   "source": [
    "### 1.5.1-Plano de projeto\n",
    "\n",
    "- Preparação\n",
    "    - Dicionários de Dados\n",
    "- Desenvolvimento\n",
    "    - Organização de entrada de dados\n",
    "- Entrega\n",
    "    - Analises preliminares"
   ]
  },
  {
   "cell_type": "markdown",
   "metadata": {},
   "source": [
    "### 1.5.2-A avaliação inicial de ferramentas e técnicas\n",
    "\n",
    "- Trabalhar com API Toggl\n",
    "- Trabalhar com Datas em python\n"
   ]
  },
  {
   "cell_type": "markdown",
   "metadata": {},
   "source": [
    "# 2-Compreensão dos Dados\n"
   ]
  },
  {
   "cell_type": "markdown",
   "metadata": {},
   "source": [
    "## 2.1-\tColeta inicial dos dados\n"
   ]
  },
  {
   "cell_type": "markdown",
   "metadata": {},
   "source": [
    "### 2.1.1-Requisitos de dados de estrutura de tópicos\n"
   ]
  },
  {
   "cell_type": "markdown",
   "metadata": {},
   "source": [
    "### 2.1.3-Verificar a disponibilidade de dados\n",
    "\n"
   ]
  },
  {
   "cell_type": "markdown",
   "metadata": {},
   "source": [
    "### 2.1.4-Definir critérios de seleção\n"
   ]
  },
  {
   "cell_type": "markdown",
   "metadata": {},
   "source": [
    "## 2.2-\tDescrição dos dados\n"
   ]
  },
  {
   "cell_type": "markdown",
   "metadata": {},
   "source": [
    "## 2.3-\tExploração dos Dados\n"
   ]
  },
  {
   "cell_type": "markdown",
   "metadata": {},
   "source": [
    "## 2.4-\tVerificação da qualidade dos dados\n"
   ]
  },
  {
   "cell_type": "markdown",
   "metadata": {},
   "source": [
    "# 3-Preparação dos Dados\n",
    "\n"
   ]
  },
  {
   "cell_type": "markdown",
   "metadata": {},
   "source": [
    "## 3.1-\tSeleção dos dados\n"
   ]
  },
  {
   "cell_type": "markdown",
   "metadata": {},
   "source": [
    "## 3.2-\tLimpeza dos dados"
   ]
  },
  {
   "cell_type": "markdown",
   "metadata": {},
   "source": [
    "## 3.3-\tConstrução dos dados\n"
   ]
  },
  {
   "cell_type": "markdown",
   "metadata": {},
   "source": [
    "### 3.3.1-Atributos derivados"
   ]
  },
  {
   "cell_type": "markdown",
   "metadata": {},
   "source": [
    "### 3.3.2-Registros gerados"
   ]
  },
  {
   "cell_type": "markdown",
   "metadata": {},
   "source": [
    "## 3.4-\tIntegração de dados"
   ]
  },
  {
   "cell_type": "markdown",
   "metadata": {},
   "source": [
    "## 3.5-\tFormatação de dados\n"
   ]
  },
  {
   "cell_type": "markdown",
   "metadata": {},
   "source": [
    "# 4-Modelagem\n"
   ]
  },
  {
   "cell_type": "markdown",
   "metadata": {},
   "source": [
    "## 4.1-\tSeleção da técnica de modelagem\n"
   ]
  },
  {
   "cell_type": "markdown",
   "metadata": {},
   "source": [
    "## 4.2-\tGeração do projeto de teste\n"
   ]
  },
  {
   "cell_type": "markdown",
   "metadata": {},
   "source": [
    "## 4.3-\tConstrução do modelo\n"
   ]
  },
  {
   "cell_type": "markdown",
   "metadata": {},
   "source": [
    "## 4.4-\tModelo a ser avaliado\n"
   ]
  },
  {
   "cell_type": "markdown",
   "metadata": {},
   "source": [
    "## 4.5-\tAjustes no modelo\n"
   ]
  },
  {
   "cell_type": "markdown",
   "metadata": {},
   "source": [
    "# 5-Avaliação\n"
   ]
  },
  {
   "cell_type": "markdown",
   "metadata": {},
   "source": [
    "## 5.1-\tAvaliação dos resultados\n"
   ]
  },
  {
   "cell_type": "markdown",
   "metadata": {},
   "source": [
    "## 5.2-\tRevisão de processo\n"
   ]
  },
  {
   "cell_type": "markdown",
   "metadata": {},
   "source": [
    "## 5.3-\tDeterminar próximos passos\n"
   ]
  },
  {
   "cell_type": "markdown",
   "metadata": {},
   "source": [
    "# 6-Desenvolvimento\n"
   ]
  },
  {
   "cell_type": "markdown",
   "metadata": {},
   "source": [
    "## 6.1-\tAplicação do projeto\n"
   ]
  },
  {
   "cell_type": "markdown",
   "metadata": {},
   "source": [
    "## 6.2-\tPlanejar entrega\n"
   ]
  },
  {
   "cell_type": "markdown",
   "metadata": {},
   "source": [
    "## 6.3-\tPlano de monitoração e manutenção\n"
   ]
  },
  {
   "cell_type": "markdown",
   "metadata": {},
   "source": [
    "## 6.4-\tProdução do relatório final\n"
   ]
  },
  {
   "cell_type": "markdown",
   "metadata": {},
   "source": [
    "## 6.5-\tRevisão do projeto\n"
   ]
  },
  {
   "cell_type": "markdown",
   "metadata": {},
   "source": [
    "## 6.6-\tLições aprendidas\n"
   ]
  },
  {
   "cell_type": "markdown",
   "metadata": {},
   "source": []
  }
 ],
 "metadata": {
  "kernelspec": {
   "display_name": "Python 3.9.6 64-bit",
   "language": "python",
   "name": "python3"
  },
  "language_info": {
   "name": "python",
   "version": "3.9.6"
  },
  "orig_nbformat": 4,
  "vscode": {
   "interpreter": {
    "hash": "1a26e4b7189bf03eb81522675f6e6c88684ba722547c6ad443d3676f771c332f"
   }
  }
 },
 "nbformat": 4,
 "nbformat_minor": 2
}
